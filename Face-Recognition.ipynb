{
 "cells": [
  {
   "cell_type": "markdown",
   "id": "1b213c78",
   "metadata": {},
   "source": [
    "Importing Libraries"
   ]
  },
  {
   "cell_type": "code",
   "execution_count": 13,
   "id": "b05a08dd",
   "metadata": {},
   "outputs": [],
   "source": [
    "import cv2\n",
    "import os\n",
    "import random\n",
    "import numpy as np\n",
    "from matplotlib import pyplot as plt\n",
    "from tensorflow.keras.models import Model\n",
    "from tensorflow.keras.layers import Layer, Conv2D, Dense, MaxPooling2D, Input, Flatten\n",
    "import tensorflow as tf\n",
    "gpus = tf.config.experimental.list_physical_devices('GPU')\n",
    "for gpu in gpus: \n",
    "    tf.config.experimental.set_memory_growth(gpu, True)\n",
    "import uuid"
   ]
  },
  {
   "cell_type": "markdown",
   "id": "8a1465d5",
   "metadata": {},
   "source": [
    "Creating the path of the files"
   ]
  },
  {
   "cell_type": "code",
   "execution_count": 14,
   "id": "133849ec",
   "metadata": {},
   "outputs": [],
   "source": [
    "\n",
    "POS_PATH = os.path.join('data', 'positive')\n",
    "NEG_PATH = os.path.join('data', 'negative')\n",
    "ANC_PATH = os.path.join('data', 'anchor')"
   ]
  },
  {
   "cell_type": "markdown",
   "id": "2857fc8c",
   "metadata": {},
   "source": [
    "Creating the directories"
   ]
  },
  {
   "cell_type": "code",
   "execution_count": null,
   "id": "437c680c",
   "metadata": {},
   "outputs": [],
   "source": [
    "os.makedirs(POS_PATH)\n",
    "os.makedirs(NEG_PATH)\n",
    "os.makedirs(ANC_PATH)"
   ]
  },
  {
   "cell_type": "markdown",
   "id": "651b53bd",
   "metadata": {},
   "source": [
    "Link to images of pictures: <br>\n",
    "http://vis-www.cs.umass.edu/lfw/ <br>\n",
    "Download the \"All images as gzipped tar file\""
   ]
  },
  {
   "cell_type": "markdown",
   "id": "c39b2751",
   "metadata": {},
   "source": [
    "Untar Labelled Faces in the Wild Dataset"
   ]
  },
  {
   "cell_type": "code",
   "execution_count": null,
   "id": "e78bf296",
   "metadata": {},
   "outputs": [],
   "source": [
    "!tar -xf lfw.tgz"
   ]
  },
  {
   "cell_type": "markdown",
   "id": "87f69d32",
   "metadata": {},
   "source": [
    "Placing the images in the folder with negative examples <br>\n",
    "(pictures of people that isn't me)"
   ]
  },
  {
   "cell_type": "code",
   "execution_count": null,
   "id": "830ad8ae",
   "metadata": {},
   "outputs": [],
   "source": [
    "for directory in os.listdir('lfw'):\n",
    "    for file in os.listdir(os.path.join('lfw', directory)):\n",
    "        EX_PATH = os.path.join('lfw', directory, file)\n",
    "        NEW_PATH = os.path.join(NEG_PATH, file)\n",
    "        os.replace(EX_PATH, NEW_PATH)\n",
    "#After this you can delete the ltw folder"
   ]
  },
  {
   "cell_type": "markdown",
   "id": "6e4d6b8b",
   "metadata": {},
   "source": [
    "Establish a connection to the webcam and adding photos to anchor and positive directories <br>\n",
    "(anchor images will be compared against positive and negative images)"
   ]
  },
  {
   "cell_type": "code",
   "execution_count": 70,
   "id": "d098c0d8",
   "metadata": {},
   "outputs": [],
   "source": [
    "cap = cv2.VideoCapture(0)\n",
    "while cap.isOpened(): \n",
    "    ret, frame = cap.read()\n",
    "    \n",
    "    # Cut down frame to 250x250px\n",
    "    frame = frame[100:100+250,200:200+250, :]\n",
    "    \n",
    "    # Show image back to screen\n",
    "    cv2.imshow('Image Collection', frame)\n",
    "    \n",
    "    # Collect anchors with a\n",
    "    if cv2.waitKey(1) & 0XFF == ord('a'):\n",
    "        # Create the unique file path \n",
    "        imgname = os.path.join(ANC_PATH, '{}.jpg'.format(uuid.uuid1()))\n",
    "        # Write out anchor image\n",
    "        cv2.imwrite(imgname, frame)\n",
    "    \n",
    "    # Collect positives with p\n",
    "    if cv2.waitKey(1) & 0XFF == ord('p'):\n",
    "        # Create the unique file path \n",
    "        imgname = os.path.join(POS_PATH, '{}.jpg'.format(uuid.uuid1()))\n",
    "        # Write out positive image\n",
    "        cv2.imwrite(imgname, frame)\n",
    "        \n",
    "    # Breaking with q\n",
    "    if cv2.waitKey(1) & 0XFF == ord('q'):\n",
    "        break\n",
    "        \n",
    "# Release the webcam\n",
    "cap.release()\n",
    "# Close the image show frame\n",
    "cv2.destroyAllWindows()\n",
    "#Collect at least 200 in anchor (a) and in positive (p)"
   ]
  },
  {
   "cell_type": "markdown",
   "id": "65a5749a",
   "metadata": {},
   "source": [
    "Data Augmentation"
   ]
  },
  {
   "cell_type": "code",
   "execution_count": 71,
   "id": "9ea61e76",
   "metadata": {},
   "outputs": [],
   "source": [
    "def data_aug(img):\n",
    "    data = []\n",
    "    for i in range(9):\n",
    "        img = tf.image.stateless_random_brightness(img, max_delta=0.02, seed=(1,2))\n",
    "        img = tf.image.stateless_random_contrast(img, lower=0.6, upper=1, seed=(1,3))\n",
    "        img = tf.image.stateless_random_flip_left_right(img, seed=(np.random.randint(100),np.random.randint(100)))\n",
    "        img = tf.image.stateless_random_jpeg_quality(img, min_jpeg_quality=90, max_jpeg_quality=100, seed=(np.random.randint(100),np.random.randint(100)))\n",
    "        img = tf.image.stateless_random_saturation(img, lower=0.9,upper=1, seed=(np.random.randint(100),np.random.randint(100)))\n",
    "        data.append(img)\n",
    "    \n",
    "    return data"
   ]
  },
  {
   "cell_type": "code",
   "execution_count": 72,
   "id": "2905e65c",
   "metadata": {},
   "outputs": [],
   "source": [
    "#Augmenting the ANCHOR photos\n",
    "for file_name in os.listdir(os.path.join(ANC_PATH)):\n",
    "    img_path = os.path.join(ANC_PATH, file_name)\n",
    "    img = cv2.imread(img_path)\n",
    "    augmented_images = data_aug(img) \n",
    "    \n",
    "    for image in augmented_images:\n",
    "        cv2.imwrite(os.path.join(ANC_PATH, '{}.jpg'.format(uuid.uuid1())), image.numpy())"
   ]
  },
  {
   "cell_type": "code",
   "execution_count": 73,
   "id": "6347f704",
   "metadata": {},
   "outputs": [],
   "source": [
    "#Augmenting the POSITIVE photos\n",
    "for file_name in os.listdir(os.path.join(POS_PATH)):\n",
    "    img_path = os.path.join(POS_PATH, file_name)\n",
    "    img = cv2.imread(img_path)\n",
    "    augmented_images = data_aug(img) \n",
    "    \n",
    "    for image in augmented_images:\n",
    "        cv2.imwrite(os.path.join(POS_PATH, '{}.jpg'.format(uuid.uuid1())), image.numpy())"
   ]
  },
  {
   "cell_type": "code",
   "execution_count": 17,
   "id": "90f0d886",
   "metadata": {},
   "outputs": [],
   "source": [
    "anchor = tf.data.Dataset.list_files(ANC_PATH+'\\*.jpg').take(4320)\n",
    "positive = tf.data.Dataset.list_files(POS_PATH+'\\*.jpg').take(4320)\n",
    "negative = tf.data.Dataset.list_files(NEG_PATH+'\\*.jpg').take(4320)"
   ]
  },
  {
   "cell_type": "markdown",
   "id": "25bd48a6",
   "metadata": {},
   "source": [
    "Preprocessign function: <br>\n",
    "(pasarlo a (100,100) y comprimirlo de 0 a 1)"
   ]
  },
  {
   "cell_type": "code",
   "execution_count": 15,
   "id": "ec64c672",
   "metadata": {},
   "outputs": [],
   "source": [
    "def preprocess(file_path):\n",
    "    \n",
    "    # Read in image from file path\n",
    "    byte_img = tf.io.read_file(file_path)\n",
    "    # Load in the image \n",
    "    img = tf.io.decode_jpeg(byte_img)\n",
    "    \n",
    "    # Preprocessing steps - resizing the image to be 100x100x3\n",
    "    img = tf.image.resize(img, (100,100))\n",
    "    # Scale image to be between 0 and 1 \n",
    "    img = img / 255.0\n",
    "\n",
    "    # Return image\n",
    "    return img"
   ]
  },
  {
   "cell_type": "markdown",
   "id": "e5472a36",
   "metadata": {},
   "source": [
    "zipping and concatanating the positives and negatives"
   ]
  },
  {
   "cell_type": "code",
   "execution_count": 18,
   "id": "71a6fb74",
   "metadata": {},
   "outputs": [],
   "source": [
    "positives = tf.data.Dataset.zip((anchor, positive, tf.data.Dataset.from_tensor_slices(tf.ones(len(anchor)))))\n",
    "negatives = tf.data.Dataset.zip((anchor, negative, tf.data.Dataset.from_tensor_slices(tf.zeros(len(anchor)))))\n",
    "data = positives.concatenate(negatives)"
   ]
  },
  {
   "cell_type": "code",
   "execution_count": 19,
   "id": "062ce0dc",
   "metadata": {},
   "outputs": [],
   "source": [
    "def preprocess_twin(input_img, validation_img, label):\n",
    "    return(preprocess(input_img), preprocess(validation_img), label)"
   ]
  },
  {
   "cell_type": "markdown",
   "id": "88fa1588",
   "metadata": {},
   "source": [
    "Build dataloader pipeline:"
   ]
  },
  {
   "cell_type": "code",
   "execution_count": 20,
   "id": "4433a282",
   "metadata": {},
   "outputs": [],
   "source": [
    "data = data.map(preprocess_twin)\n",
    "data = data.cache()\n",
    "data = data.shuffle(buffer_size=8000)"
   ]
  },
  {
   "cell_type": "markdown",
   "id": "ddb9536e",
   "metadata": {},
   "source": [
    "<h3>I was going to divide between train and test, but decided to use all the data to train and test only in real time </h3><br>\n",
    "    all that is commented is because of this"
   ]
  },
  {
   "cell_type": "code",
   "execution_count": 25,
   "id": "4c121e5b",
   "metadata": {},
   "outputs": [],
   "source": [
    "## Training partition\n",
    "#train_data = data.take(round(len(data)*.8))\n",
    "#train_data = train_data.batch(16)\n",
    "#train_data = train_data.prefetch(8)\n",
    "\n",
    "## Testing partition\n",
    "#test_data = data.skip(round(len(data)*.8))\n",
    "#test_data = test_data.take(round(len(data)*.2))\n",
    "#test_data = test_data.batch(16)\n",
    "#test_data = test_data.prefetch(8)\n"
   ]
  },
  {
   "cell_type": "code",
   "execution_count": 91,
   "id": "d120ebec",
   "metadata": {},
   "outputs": [],
   "source": [
    "data = data.batch(16)\n",
    "data = data.prefetch(8)"
   ]
  },
  {
   "cell_type": "markdown",
   "id": "1396d823",
   "metadata": {},
   "source": [
    "CNN Function to embedding:"
   ]
  },
  {
   "cell_type": "code",
   "execution_count": 79,
   "id": "33bb4f28",
   "metadata": {},
   "outputs": [],
   "source": [
    "def make_embedding(): \n",
    "    inp = Input(shape=(100,100,3), name='input_image')\n",
    "    \n",
    "    # First block\n",
    "    c1 = Conv2D(64, (10,10), activation='relu')(inp)\n",
    "    m1 = MaxPooling2D(64, (2,2), padding='same')(c1)\n",
    "    \n",
    "    # Second block\n",
    "    c2 = Conv2D(128, (7,7), activation='relu')(m1)\n",
    "    m2 = MaxPooling2D(64, (2,2), padding='same')(c2)\n",
    "    \n",
    "    # Third block \n",
    "    c3 = Conv2D(128, (4,4), activation='relu')(m2)\n",
    "    m3 = MaxPooling2D(64, (2,2), padding='same')(c3)\n",
    "    \n",
    "    # Final embedding block\n",
    "    c4 = Conv2D(256, (4,4), activation='relu')(m3)\n",
    "    f1 = Flatten()(c4)\n",
    "    d1 = Dense(4096, activation='sigmoid')(f1)\n",
    "    \n",
    "    \n",
    "    return Model(inputs=[inp], outputs=[d1], name='embedding')"
   ]
  },
  {
   "cell_type": "code",
   "execution_count": 80,
   "id": "cc263a37",
   "metadata": {},
   "outputs": [],
   "source": [
    "embedding = make_embedding()"
   ]
  },
  {
   "cell_type": "code",
   "execution_count": 12,
   "id": "c7a278a5",
   "metadata": {},
   "outputs": [
    {
     "name": "stdout",
     "output_type": "stream",
     "text": [
      "Model: \"embedding\"\n",
      "_________________________________________________________________\n",
      "Layer (type)                 Output Shape              Param #   \n",
      "=================================================================\n",
      "input_image (InputLayer)     [(None, 100, 100, 3)]     0         \n",
      "_________________________________________________________________\n",
      "conv2d (Conv2D)              (None, 91, 91, 64)        19264     \n",
      "_________________________________________________________________\n",
      "max_pooling2d (MaxPooling2D) (None, 46, 46, 64)        0         \n",
      "_________________________________________________________________\n",
      "conv2d_1 (Conv2D)            (None, 40, 40, 128)       401536    \n",
      "_________________________________________________________________\n",
      "max_pooling2d_1 (MaxPooling2 (None, 20, 20, 128)       0         \n",
      "_________________________________________________________________\n",
      "conv2d_2 (Conv2D)            (None, 17, 17, 128)       262272    \n",
      "_________________________________________________________________\n",
      "max_pooling2d_2 (MaxPooling2 (None, 9, 9, 128)         0         \n",
      "_________________________________________________________________\n",
      "conv2d_3 (Conv2D)            (None, 6, 6, 256)         524544    \n",
      "_________________________________________________________________\n",
      "flatten (Flatten)            (None, 9216)              0         \n",
      "_________________________________________________________________\n",
      "dense (Dense)                (None, 4096)              37752832  \n",
      "=================================================================\n",
      "Total params: 38,960,448\n",
      "Trainable params: 38,960,448\n",
      "Non-trainable params: 0\n",
      "_________________________________________________________________\n"
     ]
    }
   ],
   "source": [
    "embedding.summary()"
   ]
  },
  {
   "cell_type": "markdown",
   "id": "7ce15485",
   "metadata": {},
   "source": [
    "Siamese L1 Distance class"
   ]
  },
  {
   "cell_type": "code",
   "execution_count": 2,
   "id": "648fe56e",
   "metadata": {},
   "outputs": [],
   "source": [
    "class L1Dist(Layer):\n",
    "    \n",
    "    # Init method - inheritance\n",
    "    def __init__(self, **kwargs):\n",
    "        super().__init__()\n",
    "       \n",
    "    # Magic happens here - similarity calculation\n",
    "    def call(self, input_embedding, validation_embedding):\n",
    "        return tf.math.abs(input_embedding - validation_embedding)"
   ]
  },
  {
   "cell_type": "code",
   "execution_count": 3,
   "id": "3e23dd7b",
   "metadata": {},
   "outputs": [],
   "source": [
    "def make_siamese_model(): \n",
    "    \n",
    "    # Anchor image input in the network\n",
    "    input_image = Input(name='input_img', shape=(100,100,3))\n",
    "    \n",
    "    # Validation image in the network \n",
    "    validation_image = Input(name='validation_img', shape=(100,100,3))\n",
    "    \n",
    "    # Combine siamese distance components\n",
    "    siamese_layer = L1Dist()\n",
    "    siamese_layer._name = 'distance'\n",
    "    distances = siamese_layer(embedding(input_image), embedding(validation_image))\n",
    "    \n",
    "    # Classification layer \n",
    "    classifier = Dense(1, activation='sigmoid')(distances)\n",
    "    \n",
    "    return Model(inputs=[input_image, validation_image], outputs=classifier, name='SiameseNetwork')"
   ]
  },
  {
   "cell_type": "code",
   "execution_count": 83,
   "id": "e587f003",
   "metadata": {},
   "outputs": [
    {
     "name": "stdout",
     "output_type": "stream",
     "text": [
      "Model: \"SiameseNetwork\"\n",
      "__________________________________________________________________________________________________\n",
      "Layer (type)                    Output Shape         Param #     Connected to                     \n",
      "==================================================================================================\n",
      "input_img (InputLayer)          [(None, 100, 100, 3) 0                                            \n",
      "__________________________________________________________________________________________________\n",
      "validation_img (InputLayer)     [(None, 100, 100, 3) 0                                            \n",
      "__________________________________________________________________________________________________\n",
      "embedding (Functional)          (None, 4096)         38960448    input_img[0][0]                  \n",
      "                                                                 validation_img[0][0]             \n",
      "__________________________________________________________________________________________________\n",
      "distance (L1Dist)               (None, 4096)         0           embedding[0][0]                  \n",
      "                                                                 embedding[1][0]                  \n",
      "__________________________________________________________________________________________________\n",
      "dense_3 (Dense)                 (None, 1)            4097        distance[0][0]                   \n",
      "==================================================================================================\n",
      "Total params: 38,964,545\n",
      "Trainable params: 38,964,545\n",
      "Non-trainable params: 0\n",
      "__________________________________________________________________________________________________\n"
     ]
    }
   ],
   "source": [
    "siamese_model = make_siamese_model()\n",
    "siamese_model.summary()"
   ]
  },
  {
   "cell_type": "code",
   "execution_count": 6,
   "id": "9c1e8a53",
   "metadata": {},
   "outputs": [],
   "source": [
    "binary_cross_loss = tf.losses.BinaryCrossentropy()\n",
    "opt = tf.keras.optimizers.Adam(1e-4)\n",
    "\n",
    "checkpoint_dir = './training_checkpoints'\n",
    "checkpoint_prefix = os.path.join(checkpoint_dir, 'ckpt')\n",
    "checkpoint = tf.train.Checkpoint(opt=opt, siamese_model=siamese_model)"
   ]
  },
  {
   "cell_type": "code",
   "execution_count": 85,
   "id": "306ea738",
   "metadata": {},
   "outputs": [],
   "source": [
    "#test_batch = train_data.as_numpy_iterator()"
   ]
  },
  {
   "cell_type": "code",
   "execution_count": 86,
   "id": "14e0190d",
   "metadata": {},
   "outputs": [],
   "source": [
    "#batch_1 = test_batch.next()"
   ]
  },
  {
   "cell_type": "code",
   "execution_count": 93,
   "id": "888a050c",
   "metadata": {},
   "outputs": [],
   "source": [
    "@tf.function\n",
    "def train_step(batch):\n",
    "    \n",
    "    # Record all of our operations \n",
    "    with tf.GradientTape() as tape:     \n",
    "        # Get anchor and positive/negative image\n",
    "        X = batch[:2]\n",
    "        # Get label\n",
    "        y = batch[2]\n",
    "        \n",
    "        # Forward pass\n",
    "        yhat = siamese_model(X, training=True)\n",
    "        # Calculate loss\n",
    "        loss = binary_cross_loss(y, yhat)\n",
    "    print(loss)\n",
    "        \n",
    "    # Calculate gradients\n",
    "    grad = tape.gradient(loss, siamese_model.trainable_variables)\n",
    "    \n",
    "    # Calculate updated weights and apply to siamese model\n",
    "    opt.apply_gradients(zip(grad, siamese_model.trainable_variables))\n",
    "        \n",
    "    # Return loss\n",
    "    return loss"
   ]
  },
  {
   "cell_type": "code",
   "execution_count": 88,
   "id": "f006225d",
   "metadata": {},
   "outputs": [],
   "source": [
    "# Import metric calculations\n",
    "from tensorflow.keras.metrics import Precision, Recall"
   ]
  },
  {
   "cell_type": "markdown",
   "id": "e96f502a",
   "metadata": {},
   "source": [
    "Creating the training function and training the model"
   ]
  },
  {
   "cell_type": "code",
   "execution_count": 94,
   "id": "c72fdca1",
   "metadata": {},
   "outputs": [],
   "source": [
    "def train(data, EPOCHS):\n",
    "    # Loop through epochs\n",
    "    for epoch in range(1, EPOCHS+1):\n",
    "        print('\\n Epoch {}/{}'.format(epoch, EPOCHS))\n",
    "        progbar = tf.keras.utils.Progbar(len(data))\n",
    "        \n",
    "        # Creating a metric object \n",
    "        r = Recall()\n",
    "        p = Precision()\n",
    "        \n",
    "        # Loop through each batch\n",
    "        for idx, batch in enumerate(data):\n",
    "            # Run train step here\n",
    "            loss = train_step(batch)\n",
    "            yhat = siamese_model.predict(batch[:2])\n",
    "            r.update_state(batch[2], yhat)\n",
    "            p.update_state(batch[2], yhat) \n",
    "            progbar.update(idx+1)\n",
    "        print(loss.numpy(), r.result().numpy(), p.result().numpy())\n",
    "        \n",
    "        # Save checkpoints\n",
    "        if epoch % 10 == 0: \n",
    "            checkpoint.save(file_prefix=checkpoint_prefix)"
   ]
  },
  {
   "cell_type": "markdown",
   "id": "12e2c6e2",
   "metadata": {},
   "source": [
    "Training"
   ]
  },
  {
   "cell_type": "code",
   "execution_count": 95,
   "id": "a35d717a",
   "metadata": {
    "scrolled": true
   },
   "outputs": [
    {
     "name": "stdout",
     "output_type": "stream",
     "text": [
      "\n",
      " Epoch 1/25\n",
      "Tensor(\"binary_crossentropy/weighted_loss/value:0\", shape=(), dtype=float32)\n",
      "540/540 [==============================] - 197s 329ms/step\n",
      "0.041734003 0.9560185 0.98969567\n",
      "\n",
      " Epoch 2/25\n",
      "540/540 [==============================] - 217s 402ms/step\n",
      "0.0007193892 0.9886574 0.9946437\n",
      "\n",
      " Epoch 3/25\n",
      "540/540 [==============================] - 215s 398ms/step\n",
      "0.0007375334 0.99467593 0.9967525\n",
      "\n",
      " Epoch 4/25\n",
      "540/540 [==============================] - 209s 387ms/step\n",
      "0.03839586 0.99560183 0.9965246\n",
      "\n",
      " Epoch 5/25\n",
      "540/540 [==============================] - 209s 388ms/step\n",
      "0.042874623 0.9988426 0.9979186\n",
      "\n",
      " Epoch 6/25\n",
      "540/540 [==============================] - 207s 383ms/step\n",
      "0.0002382559 0.99837965 0.9967645\n",
      "\n",
      " Epoch 7/25\n",
      "540/540 [==============================] - 206s 382ms/step\n",
      "0.0062641576 0.9988426 0.99838036\n",
      "\n",
      " Epoch 8/25\n",
      "540/540 [==============================] - 206s 381ms/step\n",
      "0.00042893132 0.99837965 0.99907345\n",
      "\n",
      " Epoch 9/25\n",
      "540/540 [==============================] - 205s 380ms/step\n",
      "0.9103009 1.0 0.999306\n",
      "\n",
      " Epoch 10/25\n",
      "540/540 [==============================] - 213s 394ms/step\n",
      "0.037998427 0.99930555 0.99884313\n",
      "\n",
      " Epoch 11/25\n",
      "540/540 [==============================] - 215s 398ms/step\n",
      "0.025580492 0.9990741 0.9995368\n",
      "\n",
      " Epoch 12/25\n",
      "540/540 [==============================] - 213s 395ms/step\n",
      "0.0010026684 0.99837965 0.9986108\n",
      "\n",
      " Epoch 13/25\n",
      "540/540 [==============================] - 210s 388ms/step\n",
      "0.00016553488 0.9990741 0.9990741\n",
      "\n",
      " Epoch 14/25\n",
      "540/540 [==============================] - 210s 388ms/step\n",
      "7.254623e-05 1.0 0.99976856\n",
      "\n",
      " Epoch 15/25\n",
      "540/540 [==============================] - 209s 386ms/step\n",
      "4.3539618e-05 0.9986111 0.9990736\n",
      "\n",
      " Epoch 16/25\n",
      "540/540 [==============================] - 208s 386ms/step\n",
      "9.741217e-05 0.9997685 0.9997685\n",
      "\n",
      " Epoch 17/25\n",
      "540/540 [==============================] - 209s 387ms/step\n",
      "0.007429803 0.99930555 0.99953693\n",
      "\n",
      " Epoch 18/25\n",
      "540/540 [==============================] - 209s 387ms/step\n",
      "0.07152907 0.99837965 0.99884206\n",
      "\n",
      " Epoch 19/25\n",
      "540/540 [==============================] - 266s 492ms/step\n",
      "0.0038162095 0.99930555 0.99930555\n",
      "\n",
      " Epoch 20/25\n",
      "540/540 [==============================] - 195s 361ms/step\n",
      "1.5505646e-05 0.99791664 0.9988415\n",
      "\n",
      " Epoch 21/25\n",
      "540/540 [==============================] - 195s 362ms/step\n",
      "0.00010215641 1.0 0.99976856\n",
      "\n",
      " Epoch 22/25\n",
      "540/540 [==============================] - 200s 370ms/step\n",
      "0.004972633 0.9997685 0.9997685\n",
      "\n",
      " Epoch 23/25\n",
      "540/540 [==============================] - 201s 372ms/step\n",
      "4.8591086e-05 0.9997685 1.0\n",
      "\n",
      " Epoch 24/25\n",
      "540/540 [==============================] - 201s 372ms/step\n",
      "5.0722265e-05 0.9988426 0.99930525\n",
      "\n",
      " Epoch 25/25\n",
      "540/540 [==============================] - 200s 371ms/step\n",
      "0.016870702 0.9988426 1.0\n"
     ]
    }
   ],
   "source": [
    "EPOCHS = 25\n",
    "train(data, EPOCHS)"
   ]
  },
  {
   "cell_type": "code",
   "execution_count": 18,
   "id": "e7707697",
   "metadata": {},
   "outputs": [],
   "source": [
    "#test_input, test_val, y_true = test_data.as_numpy_iterator().next()"
   ]
  },
  {
   "cell_type": "code",
   "execution_count": 19,
   "id": "295d01af",
   "metadata": {},
   "outputs": [],
   "source": [
    "#y_hat = siamese_model.predict([test_input, test_val])"
   ]
  },
  {
   "cell_type": "code",
   "execution_count": 25,
   "id": "454de3a2",
   "metadata": {},
   "outputs": [
    {
     "data": {
      "text/plain": [
       "[0, 1, 1, 0, 1, 1, 0, 0, 0, 0, 1, 0, 1, 0, 0, 1]"
      ]
     },
     "execution_count": 25,
     "metadata": {},
     "output_type": "execute_result"
    }
   ],
   "source": [
    "#[1 if prediction > 0.5 else 0 for prediction in y_hat ]"
   ]
  },
  {
   "cell_type": "code",
   "execution_count": 26,
   "id": "744ba9e6",
   "metadata": {},
   "outputs": [
    {
     "data": {
      "text/plain": [
       "array([0., 1., 1., 0., 1., 1., 0., 0., 0., 0., 1., 0., 1., 0., 0., 1.],\n",
       "      dtype=float32)"
      ]
     },
     "execution_count": 26,
     "metadata": {},
     "output_type": "execute_result"
    }
   ],
   "source": [
    "#y_true"
   ]
  },
  {
   "cell_type": "code",
   "execution_count": 20,
   "id": "82162314",
   "metadata": {},
   "outputs": [
    {
     "data": {
      "text/plain": [
       "1.0"
      ]
     },
     "execution_count": 20,
     "metadata": {},
     "output_type": "execute_result"
    }
   ],
   "source": [
    "# # Creating a metric object \n",
    "# m = Recall()\n",
    "\n",
    "# # Calculating the recall value \n",
    "# m.update_state(y_true, y_hat)\n",
    "\n",
    "# # Return Recall Result\n",
    "# m.result().numpy()"
   ]
  },
  {
   "cell_type": "code",
   "execution_count": 21,
   "id": "9adc7926",
   "metadata": {},
   "outputs": [
    {
     "data": {
      "text/plain": [
       "1.0"
      ]
     },
     "execution_count": 21,
     "metadata": {},
     "output_type": "execute_result"
    }
   ],
   "source": [
    "# # Creating a metric object \n",
    "# m = Precision()\n",
    "\n",
    "# # Calculating the recall value \n",
    "# m.update_state(y_true, y_hat)\n",
    "\n",
    "# # Return Recall Result\n",
    "# m.result().numpy()"
   ]
  },
  {
   "cell_type": "code",
   "execution_count": 22,
   "id": "a545b565",
   "metadata": {
    "collapsed": true
   },
   "outputs": [
    {
     "data": {
      "image/png": "[encoded data removed]",
      "text/plain": [
       "<Figure size 1000x800 with 2 Axes>"
      ]
     },
     "metadata": {},
     "output_type": "display_data"
    }
   ],
   "source": [
    "# # Set plot size \n",
    "# plt.figure(figsize=(10,8))\n",
    "\n",
    "# # Set first subplot\n",
    "# plt.subplot(1,2,1)\n",
    "# plt.imshow(test_input[4])\n",
    "\n",
    "# # Set second subplot\n",
    "# plt.subplot(1,2,2)\n",
    "# plt.imshow(test_val[4])\n",
    "\n",
    "# # Renders cleanly\n",
    "# plt.show()"
   ]
  },
  {
   "cell_type": "code",
   "execution_count": 96,
   "id": "cf80f452",
   "metadata": {},
   "outputs": [
    {
     "name": "stdout",
     "output_type": "stream",
     "text": [
      "WARNING:tensorflow:Compiled the loaded model, but the compiled metrics have yet to be built. `model.compile_metrics` will be empty until you train or evaluate the model.\n"
     ]
    }
   ],
   "source": [
    "# Save weights\n",
    "siamese_model.save('siamesemodel.h5')"
   ]
  },
  {
   "cell_type": "code",
   "execution_count": 5,
   "id": "89a374a5",
   "metadata": {},
   "outputs": [
    {
     "name": "stdout",
     "output_type": "stream",
     "text": [
      "WARNING:tensorflow:No training configuration found in the save file, so the model was *not* compiled. Compile it manually.\n"
     ]
    }
   ],
   "source": [
    "# Reload model \n",
    "siamese_model = tf.keras.models.load_model('siamesemodel.h5', \n",
    "                                   custom_objects={'L1Dist':L1Dist, 'BinaryCrossentropy':tf.losses.BinaryCrossentropy})"
   ]
  },
  {
   "cell_type": "code",
   "execution_count": 31,
   "id": "58028eae",
   "metadata": {},
   "outputs": [],
   "source": [
    "VERIF_PATH = os.path.join('application_data', 'verification_images')\n",
    "INPUT_PATH = os.path.join('application_data', 'input_image')\n",
    "\n",
    "os.makedirs(VERIF_PATH)\n",
    "os.makedirs(INPUT_PATH)\n",
    "\n",
    "#Place around 50 photos from the positive folder to the 'verification_images'"
   ]
  },
  {
   "cell_type": "code",
   "execution_count": 8,
   "id": "9ab0309d",
   "metadata": {},
   "outputs": [],
   "source": [
    "def verify(model, detection_threshold, verification_threshold):\n",
    "    # Build results array\n",
    "    results = []\n",
    "    for image in os.listdir(os.path.join('application_data', 'verification_images')):\n",
    "        input_img = preprocess(os.path.join('application_data', 'input_image', 'input_image.jpg'))\n",
    "        validation_img = preprocess(os.path.join('application_data', 'verification_images', image))\n",
    "        \n",
    "        # Make Predictions \n",
    "        result = model.predict(list(np.expand_dims([input_img, validation_img], axis=1)))\n",
    "        results.append(result)\n",
    "    \n",
    "    # Detection Threshold: Metric above which a prediciton is considered positive \n",
    "    detection = np.sum(np.array(results) > detection_threshold)\n",
    "    \n",
    "    # Verification Threshold: Proportion of positive predictions / total positive samples \n",
    "    verification = detection / len(os.listdir(os.path.join('application_data', 'verification_images'))) \n",
    "    verified = verification > verification_threshold\n",
    "    \n",
    "    return results, verified"
   ]
  },
  {
   "cell_type": "code",
   "execution_count": 21,
   "id": "385a3baa",
   "metadata": {},
   "outputs": [
    {
     "name": "stdout",
     "output_type": "stream",
     "text": [
      "True\n",
      "True\n",
      "False\n",
      "False\n",
      "True\n",
      "True\n",
      "True\n",
      "True\n",
      "True\n",
      "False\n",
      "False\n",
      "True\n"
     ]
    }
   ],
   "source": [
    "cap = cv2.VideoCapture(0)\n",
    "while cap.isOpened():\n",
    "    ret, frame = cap.read()\n",
    "    frame = frame[100:100+250,200:200+250, :]\n",
    "    \n",
    "    cv2.imshow('Verification', frame)\n",
    "    \n",
    "    # Verification trigger\n",
    "    if cv2.waitKey(10) & 0xFF == ord('v'):\n",
    "        cv2.imwrite(os.path.join('application_data', 'input_image', 'input_image.jpg'), frame)\n",
    "        # Run verification\n",
    "        results, verified = verify(siamese_model, 0.5, 0.5)\n",
    "        print(verified)\n",
    "    \n",
    "    if cv2.waitKey(10) & 0xFF == ord('q'):\n",
    "        break\n",
    "cap.release()\n",
    "cv2.destroyAllWindows()"
   ]
  },
  {
   "cell_type": "code",
   "execution_count": 30,
   "id": "17a58ba8",
   "metadata": {},
   "outputs": [
    {
     "data": {
      "text/plain": [
       "50"
      ]
     },
     "execution_count": 30,
     "metadata": {},
     "output_type": "execute_result"
    }
   ],
   "source": [
    "#to see and change the detection_threshold, higher means that is less likely to return false negatives.(you can change it in the previous cell)\n",
    "np.sum(np.squeeze(results) > 0.7)"
   ]
  },
  {
   "cell_type": "code",
   "execution_count": 52,
   "id": "ce96cdd7",
   "metadata": {},
   "outputs": [
    {
     "data": {
      "text/plain": [
       "0.78"
      ]
     },
     "execution_count": 52,
     "metadata": {},
     "output_type": "execute_result"
    }
   ],
   "source": [
    "#verification_threshold\n",
    "39/50"
   ]
  }
 ],
 "metadata": {
  "kernelspec": {
   "display_name": "Python 3 (ipykernel)",
   "language": "python",
   "name": "python3"
  },
  "language_info": {
   "codemirror_mode": {
    "name": "ipython",
    "version": 3
   },
   "file_extension": ".py",
   "mimetype": "text/x-python",
   "name": "python",
   "nbconvert_exporter": "python",
   "pygments_lexer": "ipython3",
   "version": "3.9.16"
  }
 },
 "nbformat": 4,
 "nbformat_minor": 5
}
